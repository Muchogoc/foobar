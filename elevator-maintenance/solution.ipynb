{
 "metadata": {
  "language_info": {
   "codemirror_mode": {
    "name": "ipython",
    "version": 3
   },
   "file_extension": ".py",
   "mimetype": "text/x-python",
   "name": "python",
   "nbconvert_exporter": "python",
   "pygments_lexer": "ipython3",
   "version": "3.8.5"
  },
  "orig_nbformat": 2,
  "kernelspec": {
   "name": "python385jvsc74a57bd01acde8ea4e9c93e49af2c43f64cb6bd317605f3911d175c9c875564eaca5176f",
   "display_name": "Python 3.8.5 64-bit ('foobar': virtualenvwrapper)"
  },
  "metadata": {
   "interpreter": {
    "hash": "1acde8ea4e9c93e49af2c43f64cb6bd317605f3911d175c9c875564eaca5176f"
   }
  }
 },
 "nbformat": 4,
 "nbformat_minor": 2,
 "cells": [
  {
   "cell_type": "code",
   "execution_count": 2,
   "metadata": {},
   "outputs": [],
   "source": [
    "l=[\"1.1.2\", \"1.0\", \"1.3.3\", \"1.0.12\", \"1.0.2\"]"
   ]
  },
  {
   "cell_type": "code",
   "execution_count": 3,
   "metadata": {},
   "outputs": [
    {
     "output_type": "stream",
     "name": "stdout",
     "text": [
      "[['1', '1', '2'], ['1', '0'], ['1', '3', '3'], ['1', '0', '12'], ['1', '0', '2']]\n"
     ]
    }
   ],
   "source": [
    "parsed = []\n",
    "for e in l:\n",
    "    parsed.append(e.split(\".\"))\n",
    "print(parsed)"
   ]
  },
  {
   "cell_type": "code",
   "execution_count": 7,
   "metadata": {},
   "outputs": [
    {
     "output_type": "stream",
     "name": "stdout",
     "text": [
      "[[1, 0], [1, 0, 2], [1, 0, 12], [1, 1, 2], [1, 3, 3]]\n"
     ]
    }
   ],
   "source": [
    "parsed_ints = []\n",
    "for e in parsed:\n",
    "    parsed_ints.append(list(map(int, e)))\n",
    "parsed_ints.sort()\n",
    "print(parsed_ints)"
   ]
  },
  {
   "cell_type": "code",
   "execution_count": 17,
   "metadata": {},
   "outputs": [
    {
     "output_type": "stream",
     "name": "stdout",
     "text": [
      "[1, 0]\n[1, 0, 2]\n[1, 0, 12]\n[1, 1, 2]\n[1, 3, 3]\n['1.0', '1.0.2', '1.0.12', '1.1.2', '1.3.3']\n"
     ]
    }
   ],
   "source": [
    "sorted_joined = []\n",
    "for sorted_int in parsed_ints:\n",
    "    print(sorted_int)\n",
    "    string_ints = [str(x) for x in sorted_int]\n",
    "    sorted_joined.append(\".\".join(string_ints))\n",
    "print(sorted_joined)"
   ]
  },
  {
   "cell_type": "code",
   "execution_count": null,
   "metadata": {},
   "outputs": [],
   "source": []
  }
 ]
}